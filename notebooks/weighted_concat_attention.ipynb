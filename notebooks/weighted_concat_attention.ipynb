{
 "cells": [
  {
   "cell_type": "code",
   "execution_count": 1,
   "metadata": {},
   "outputs": [
    {
     "name": "stderr",
     "output_type": "stream",
     "text": [
      "/home/tkhuran3/miniconda3/envs/geo/lib/python3.9/site-packages/tqdm/auto.py:21: TqdmWarning: IProgress not found. Please update jupyter and ipywidgets. See https://ipywidgets.readthedocs.io/en/stable/user_install.html\n",
      "  from .autonotebook import tqdm as notebook_tqdm\n"
     ]
    }
   ],
   "source": [
    "import torch\n",
    "import torch.nn as nn\n",
    "import torch.nn.functional as F\n",
    "import numpy as np\n",
    "from tqdm import tqdm\n",
    "from datasets import load_dataset\n",
    "from sklearn.model_selection import train_test_split"
   ]
  },
  {
   "cell_type": "code",
   "execution_count": 2,
   "metadata": {},
   "outputs": [
    {
     "name": "stderr",
     "output_type": "stream",
     "text": [
      "/home/tkhuran3/miniconda3/envs/geo/lib/python3.9/site-packages/datasets/load.py:1486: FutureWarning: The repository for DarthReca/california_burned_areas contains custom code which must be executed to correctly load the dataset. You can inspect the repository content at https://hf.co/datasets/DarthReca/california_burned_areas\n",
      "You can avoid this message in future by passing the argument `trust_remote_code=True`.\n",
      "Passing `trust_remote_code=True` will be mandatory to load this dataset from the next major release of `datasets`.\n",
      "  warnings.warn(\n"
     ]
    }
   ],
   "source": [
    "\n",
    "\n",
    "# There are two available configurations, \"post-fire\" and \"pre-post-fire.\"\n",
    "dataset = load_dataset(\"DarthReca/california_burned_areas\", name=\"pre-post-fire\")\n"
   ]
  },
  {
   "cell_type": "code",
   "execution_count": 3,
   "metadata": {},
   "outputs": [
    {
     "data": {
      "text/plain": [
       "DatasetDict({\n",
       "    0: Dataset({\n",
       "        features: ['post_fire', 'pre_fire', 'mask'],\n",
       "        num_rows: 78\n",
       "    })\n",
       "    1: Dataset({\n",
       "        features: ['post_fire', 'pre_fire', 'mask'],\n",
       "        num_rows: 55\n",
       "    })\n",
       "    2: Dataset({\n",
       "        features: ['post_fire', 'pre_fire', 'mask'],\n",
       "        num_rows: 69\n",
       "    })\n",
       "    3: Dataset({\n",
       "        features: ['post_fire', 'pre_fire', 'mask'],\n",
       "        num_rows: 85\n",
       "    })\n",
       "    4: Dataset({\n",
       "        features: ['post_fire', 'pre_fire', 'mask'],\n",
       "        num_rows: 69\n",
       "    })\n",
       "    chabud: Dataset({\n",
       "        features: ['post_fire', 'pre_fire', 'mask'],\n",
       "        num_rows: 68\n",
       "    })\n",
       "})"
      ]
     },
     "execution_count": 3,
     "metadata": {},
     "output_type": "execute_result"
    }
   ],
   "source": [
    "dataset"
   ]
  },
  {
   "cell_type": "code",
   "execution_count": 4,
   "metadata": {},
   "outputs": [
    {
     "name": "stdout",
     "output_type": "stream",
     "text": [
      "done\n",
      "done\n",
      "done\n",
      "done\n",
      "done\n"
     ]
    }
   ],
   "source": [
    "X_0 = zip(dataset['0']['post_fire'], dataset['0']['pre_fire'])\n",
    "print('done')\n",
    "X_1 = zip(dataset['1']['post_fire'], dataset['1']['pre_fire'])\n",
    "print('done')\n",
    "X_2 =zip(dataset['2']['post_fire'], dataset['2']['pre_fire'])\n",
    "print('done')\n",
    "X_3 = zip(dataset['3']['post_fire'], dataset['3']['pre_fire'])\n",
    "print('done')\n",
    "X_4 = zip(dataset['4']['post_fire'], dataset['4']['pre_fire'])\n",
    "print('done')\n",
    "X_c = zip(dataset['chabud']['post_fire'], dataset['chabud']['pre_fire'])"
   ]
  },
  {
   "cell_type": "code",
   "execution_count": 5,
   "metadata": {},
   "outputs": [
    {
     "name": "stdout",
     "output_type": "stream",
     "text": [
      "done\n",
      "done\n",
      "done\n",
      "done\n",
      "done\n"
     ]
    }
   ],
   "source": [
    "m_0 = dataset['0']['mask']\n",
    "print('done')\n",
    "m_1 = dataset['1']['mask']\n",
    "print('done')\n",
    "m_2 = dataset['2']['mask']\n",
    "print('done')\n",
    "m_3 = dataset['3']['mask']\n",
    "print('done')\n",
    "m_4 = dataset['4']['mask']\n",
    "print('done')\n",
    "m_c = dataset['chabud']['mask']"
   ]
  },
  {
   "cell_type": "code",
   "execution_count": 6,
   "metadata": {},
   "outputs": [],
   "source": [
    "X = []\n",
    "for x in [X_0, X_1, X_2, X_3, X_4, X_c]: \n",
    "    X.extend(list(x))  # Combine pre_fire and post_fire as features\n",
    "\n",
    "\n",
    "train_X, test_X, train_Y, test_Y = train_test_split(X, m_0+m_1+m_2+m_3+m_4+m_c, test_size=0.3, random_state=42)\n"
   ]
  },
  {
   "cell_type": "code",
   "execution_count": 7,
   "metadata": {},
   "outputs": [
    {
     "data": {
      "text/plain": [
       "(296, 296)"
      ]
     },
     "execution_count": 7,
     "metadata": {},
     "output_type": "execute_result"
    }
   ],
   "source": [
    "len(train_X), len(train_Y)"
   ]
  },
  {
   "cell_type": "code",
   "execution_count": 8,
   "metadata": {},
   "outputs": [],
   "source": [
    "class conv_block(nn.Module):\n",
    "    def __init__(self, in_c, out_c):\n",
    "        super().__init__()\n",
    " \n",
    "        self.conv = nn.Sequential(\n",
    "            nn.Conv2d(in_c, out_c, kernel_size=3, padding=1),\n",
    "            nn.BatchNorm2d(out_c),\n",
    "            nn.ReLU(inplace=True),\n",
    "            nn.Conv2d(out_c, out_c, kernel_size=3, padding=1),\n",
    "            nn.BatchNorm2d(out_c),\n",
    "            nn.ReLU(inplace=True)\n",
    "        )\n",
    " \n",
    "    def forward(self, x):\n",
    "        return self.conv(x)\n",
    "    \n",
    "class encoder_block(nn.Module):\n",
    "    def __init__(self, in_c, out_c):\n",
    "        super().__init__()\n",
    " \n",
    "        self.conv = conv_block(in_c, out_c)\n",
    "        self.pool = nn.MaxPool2d((2, 2))\n",
    " \n",
    "    def forward(self, x):\n",
    "        s = self.conv(x)\n",
    "        p = self.pool(s)\n",
    "        return s, p\n",
    "class attention_gate(nn.Module):\n",
    "    def __init__(self, in_c, out_c):\n",
    "        super().__init__()\n",
    " \n",
    "        self.Wg = nn.Sequential(\n",
    "            nn.Conv2d(in_c[0], out_c, kernel_size=1, padding=0),\n",
    "            nn.BatchNorm2d(out_c)\n",
    "        )\n",
    "        self.Ws = nn.Sequential(\n",
    "            nn.Conv2d(in_c[1], out_c, kernel_size=1, padding=0),\n",
    "            nn.BatchNorm2d(out_c)\n",
    "        )\n",
    "        self.relu = nn.ReLU(inplace=True)\n",
    "        self.output = nn.Sequential(\n",
    "            nn.Conv2d(out_c, out_c, kernel_size=1, padding=0),\n",
    "            nn.Sigmoid()\n",
    "        )\n",
    " \n",
    "    def forward(self, g, s):\n",
    "        Wg = self.Wg(g)\n",
    "        Ws = self.Ws(s)\n",
    "        out = self.relu(Wg + Ws)\n",
    "        out = self.output(out)\n",
    "        return out \n",
    "\n",
    "\n",
    "class decoder_block(nn.Module):\n",
    "    def __init__(self, in_c, out_c):\n",
    "        super().__init__()\n",
    " \n",
    "        self.up = nn.Upsample(scale_factor=2, mode=\"bilinear\", align_corners=True)\n",
    "        self.ag = attention_gate(in_c, out_c)\n",
    "        self.c1 = conv_block(in_c[0]+out_c, out_c)\n",
    " \n",
    "    def forward(self, x, s):\n",
    "        x = self.up(x)\n",
    "        s = self.ag(x, s)\n",
    "        x = torch.cat([x, s], axis=1)\n",
    "        x = self.c1(x)\n",
    "        return x\n",
    "\n",
    "class attention_unet(nn.Module):\n",
    "    def __init__(self):\n",
    "        super().__init__()\n",
    " \n",
    "        self.e1 = encoder_block(12, 64)\n",
    "        self.e2 = encoder_block(64, 128)\n",
    "        self.e3 = encoder_block(128, 256)\n",
    " \n",
    "        self.b1 = conv_block(256, 512)\n",
    " \n",
    "        self.d1 = decoder_block([512, 256], 256)\n",
    "        self.d2 = decoder_block([256, 128], 128)\n",
    "        self.d3 = decoder_block([128, 64], 64)\n",
    " \n",
    "        self.output = nn.Conv2d(64, 1, kernel_size=1, padding=0)\n",
    "        self.w1 = nn.Parameter(torch.tensor(0.5))\n",
    "        self.w2 = nn.Parameter(torch.tensor(0.5))\n",
    " \n",
    "    def forward(self, pre_fire, post_fire):\n",
    "        weights = torch.softmax(torch.stack([self.w1, self.w2]), dim=0)\n",
    "        x = weights[0] * pre_fire + weights[1] * post_fire\n",
    "        s1, p1 = self.e1(x)\n",
    "        s2, p2 = self.e2(p1)\n",
    "        s3, p3 = self.e3(p2)\n",
    " \n",
    "        b1 = self.b1(p3)\n",
    " \n",
    "        d1 = self.d1(b1, s3)\n",
    "        d2 = self.d2(d1, s2)\n",
    "        d3 = self.d3(d2, s1)\n",
    " \n",
    "        output = self.output(d3)\n",
    "        return torch.sigmoid(output)"
   ]
  },
  {
   "cell_type": "code",
   "execution_count": 11,
   "metadata": {},
   "outputs": [],
   "source": [
    "model = attention_unet()"
   ]
  },
  {
   "cell_type": "code",
   "execution_count": 17,
   "metadata": {},
   "outputs": [],
   "source": [
    "from torch.utils.data import DataLoader, Dataset\n",
    "\n",
    "class ImageData(Dataset):\n",
    "    def __init__(self, images, masks):\n",
    "        self.images = images\n",
    "        self.masks = masks\n",
    "    \n",
    "    def __len__(self):\n",
    "        return len(self.images)\n",
    "\n",
    "    def __getitem__(self, idx):\n",
    "        image = self.images[idx]\n",
    "        pre_fire_image = image[1]\n",
    "        post_fire_image = image[0]\n",
    "        mask = self.masks[idx]\n",
    "        tensor_image_pre = torch.tensor(pre_fire_image).float().permute(2, 0, 1) #-> make changes to what channels you want to include\n",
    "        tensor_image_post = torch.tensor(post_fire_image).float().permute(2, 0, 1)\n",
    "        # ndvi_val = self.ndvi(tensor_image)\n",
    "        # abai_val = self.abai(tensor_image)\n",
    "        # nbr_val = self.nbr(tensor_image)\n",
    "        # image_with_indices = torch.cat((tensor_image, ndvi_val.unsqueeze(0), abai_val.unsqueeze(0), nbr_val.unsqueeze(0)), dim=0)\n",
    "        tensor_mask = torch.tensor(mask).float().permute(2, 0, 1)\n",
    "        return tensor_image_pre, tensor_image_post, tensor_mask\n",
    "    # def ndvi(self, image):\n",
    "    #     b4 = image[3, :, :]\n",
    "    #     b8 = image[7, :, :]\n",
    "    #     return (b8 - b4) / (b8 + b4 + 1e-6)  # Added small value to avoid division by zero\n",
    "\n",
    "    # def abai(self, image):\n",
    "    #     b3 = image[2, :, :]\n",
    "    #     b11 = image[10, :, :]\n",
    "    #     b12 = image[11, :, :]\n",
    "    #     return (3 * b12 - 2 * b11 - 3 * b3) / (3 * b12 + 2 * b11 + 3 * b3 + 1e-6)  # Avoid division by zero\n",
    "\n",
    "    # def nbr(self, image):\n",
    "    #     b2 = image[1, :, :]\n",
    "    #     b3 = image[2, :, :]\n",
    "    #     b8a = image[9, :, :]\n",
    "    #     b12 = image[11, :, :]\n",
    "    #     return (b12 - b8a - b3 - b2) / (b12 + b8a + b3 + b2 + 1e-6)\n",
    "    \n",
    "train_dataset = ImageData(images=train_X, masks=train_Y)\n",
    "train_loader = DataLoader(train_dataset, batch_size=8, shuffle=True)\n",
    "\n",
    "# val_dataset = ImageData(images=val_X, masks=val_Y)\n",
    "# val_loader = DataLoader(val_dataset, batch_size=8, shuffle=True)\n",
    "\n",
    "test_dataset = ImageData(images=test_X, masks=test_Y)\n",
    "test_loader = DataLoader(test_dataset, batch_size=8, shuffle=True)\n",
    "        "
   ]
  },
  {
   "cell_type": "code",
   "execution_count": 18,
   "metadata": {},
   "outputs": [],
   "source": [
    "def precision_score_(groundtruth_mask, pred_mask):\n",
    "    intersect = np.sum(pred_mask*groundtruth_mask)\n",
    "    total_pixel_pred = np.sum(pred_mask)\n",
    "    precision = np.mean(intersect/total_pixel_pred)\n",
    "    return round(precision, 3)\n",
    "\n",
    "def recall_score_(groundtruth_mask, pred_mask):\n",
    "    intersect = np.sum(pred_mask*groundtruth_mask)\n",
    "    total_pixel_truth = np.sum(groundtruth_mask)\n",
    "    recall = np.mean(intersect/total_pixel_truth)\n",
    "    return round(recall, 3)\n",
    "def iou_(groundtruth_mask, pred_mask):\n",
    "    intersect = np.sum(pred_mask*groundtruth_mask)\n",
    "    union = np.sum(pred_mask) + np.sum(groundtruth_mask) - intersect\n",
    "    return round(np.mean(intersect/union), 3)\n",
    "def dice_loss(groundtruth_mask, pred_mask):\n",
    "    intersect = torch.sum(pred_mask * groundtruth_mask)\n",
    "    total_sum = torch.sum(pred_mask) + torch.sum(groundtruth_mask)\n",
    "    dice = 1 - (2 * intersect / (total_sum + 1e-6))  # Avoid division by zero\n",
    "    return dice\n"
   ]
  },
  {
   "cell_type": "code",
   "execution_count": 19,
   "metadata": {},
   "outputs": [
    {
     "data": {
      "text/plain": [
       "1.0"
      ]
     },
     "execution_count": 19,
     "metadata": {},
     "output_type": "execute_result"
    }
   ],
   "source": [
    "iou_(np.array(m_0[0:5]), np.array(m_0[0:5]))"
   ]
  },
  {
   "cell_type": "code",
   "execution_count": 20,
   "metadata": {},
   "outputs": [],
   "source": [
    "def dice_loss(groundtruth_mask, pred_mask):\n",
    "    intersect = torch.sum(pred_mask * groundtruth_mask)\n",
    "    total_sum = torch.sum(pred_mask) + torch.sum(groundtruth_mask)\n",
    "    dice = 1 - (2 * intersect / (total_sum + 1e-6))  # Avoid division by zero\n",
    "    return dice"
   ]
  },
  {
   "cell_type": "code",
   "execution_count": 21,
   "metadata": {},
   "outputs": [
    {
     "name": "stderr",
     "output_type": "stream",
     "text": [
      "100%|██████████| 37/37 [05:44<00:00,  9.31s/it]\n"
     ]
    },
    {
     "name": "stdout",
     "output_type": "stream",
     "text": [
      "Epoch [1/10], Loss: 1.199951245978072\n",
      "Precision: 0.3280, Recall: 0.4410\n",
      "F1 - score : 0.3761976705485518\n",
      "IOU : 0.23199999332427979\n"
     ]
    },
    {
     "name": "stderr",
     "output_type": "stream",
     "text": [
      "100%|██████████| 37/37 [05:42<00:00,  9.25s/it]\n"
     ]
    },
    {
     "name": "stdout",
     "output_type": "stream",
     "text": [
      "Epoch [2/10], Loss: 1.1331337819228302\n",
      "Precision: 0.3810, Recall: 0.5720\n",
      "F1 - score : 0.457359933351378\n",
      "IOU : 0.296999990940094\n"
     ]
    },
    {
     "name": "stderr",
     "output_type": "stream",
     "text": [
      "100%|██████████| 37/37 [05:44<00:00,  9.30s/it]\n"
     ]
    },
    {
     "name": "stdout",
     "output_type": "stream",
     "text": [
      "Epoch [3/10], Loss: 1.0830409269075136\n",
      "Precision: 0.3900, Recall: 0.6650\n",
      "F1 - score : 0.49165876226972843\n",
      "IOU : 0.32600000500679016\n"
     ]
    },
    {
     "name": "stderr",
     "output_type": "stream",
     "text": [
      "100%|██████████| 37/37 [05:43<00:00,  9.29s/it]\n"
     ]
    },
    {
     "name": "stdout",
     "output_type": "stream",
     "text": [
      "Epoch [4/10], Loss: 1.0458001397751473\n",
      "Precision: 0.4740, Recall: 0.6400\n",
      "F1 - score : 0.5446319562964186\n",
      "IOU : 0.37400001287460327\n"
     ]
    },
    {
     "name": "stderr",
     "output_type": "stream",
     "text": [
      "100%|██████████| 37/37 [05:44<00:00,  9.30s/it]\n"
     ]
    },
    {
     "name": "stdout",
     "output_type": "stream",
     "text": [
      "Epoch [5/10], Loss: 1.0346989148371928\n",
      "Precision: 0.4180, Recall: 0.6970\n",
      "F1 - score : 0.5225937393543508\n",
      "IOU : 0.3540000021457672\n"
     ]
    },
    {
     "name": "stderr",
     "output_type": "stream",
     "text": [
      "100%|██████████| 37/37 [05:43<00:00,  9.28s/it]\n"
     ]
    },
    {
     "name": "stdout",
     "output_type": "stream",
     "text": [
      "Epoch [6/10], Loss: 1.0389837815954879\n",
      "Precision: 0.4250, Recall: 0.6220\n",
      "F1 - score : 0.5049665726560411\n",
      "IOU : 0.33799999952316284\n"
     ]
    },
    {
     "name": "stderr",
     "output_type": "stream",
     "text": [
      "100%|██████████| 37/37 [05:45<00:00,  9.35s/it]\n"
     ]
    },
    {
     "name": "stdout",
     "output_type": "stream",
     "text": [
      "Epoch [7/10], Loss: 0.9736422622526014\n",
      "Precision: 0.4880, Recall: 0.6650\n",
      "F1 - score : 0.5629141483697085\n",
      "IOU : 0.39100000262260437\n"
     ]
    },
    {
     "name": "stderr",
     "output_type": "stream",
     "text": [
      "100%|██████████| 37/37 [05:41<00:00,  9.22s/it]\n"
     ]
    },
    {
     "name": "stdout",
     "output_type": "stream",
     "text": [
      "Epoch [8/10], Loss: 0.9939295939497046\n",
      "Precision: 0.4370, Recall: 0.5900\n",
      "F1 - score : 0.5021032079945903\n",
      "IOU : 0.33500000834465027\n"
     ]
    },
    {
     "name": "stderr",
     "output_type": "stream",
     "text": [
      "100%|██████████| 37/37 [05:44<00:00,  9.31s/it]\n"
     ]
    },
    {
     "name": "stdout",
     "output_type": "stream",
     "text": [
      "Epoch [9/10], Loss: 0.9297552527608098\n",
      "Precision: 0.4790, Recall: 0.7200\n",
      "F1 - score : 0.5752794101794938\n",
      "IOU : 0.40400001406669617\n"
     ]
    },
    {
     "name": "stderr",
     "output_type": "stream",
     "text": [
      "100%|██████████| 37/37 [05:48<00:00,  9.41s/it]\n"
     ]
    },
    {
     "name": "stdout",
     "output_type": "stream",
     "text": [
      "Epoch [10/10], Loss: 0.9346185503779231\n",
      "Precision: 0.4630, Recall: 0.6890\n",
      "F1 - score : 0.5538316002701457\n",
      "IOU : 0.382999986410141\n"
     ]
    }
   ],
   "source": [
    "import torch.optim as optim\n",
    "criterion = nn.BCELoss()  # Use BCEWithLogitsLoss for binary segmentation\n",
    "optimizer = optim.Adam(model.parameters(), lr=1e-4)\n",
    "\n",
    "# Training Loop\n",
    "num_epochs = 10\n",
    "device = torch.device(\"cuda:2\" if torch.cuda.is_available() else \"cpu\")\n",
    "# model.to(device)\n",
    "\n",
    "for epoch in range(num_epochs):\n",
    "    model.train()\n",
    "    epoch_loss = 0\n",
    "    all_preds = []\n",
    "    all_masks = []\n",
    "\n",
    "    for prefires, postfires, masks in tqdm(train_loader):\n",
    "        prefires, postfires, masks = prefires.to(device), postfires.to(device), masks.to(device)\n",
    "        \n",
    "        # Forward pass\n",
    "        outputs = model(prefires, postfires)\n",
    "        loss = criterion(outputs, masks)  # Cast masks to long if needed\n",
    "        dice = dice_loss(masks, outputs)\n",
    "        total_loss = loss + dice\n",
    "        epoch_loss += total_loss.item()\n",
    "\n",
    "\n",
    "        # Backpropagation and optimization\n",
    "        optimizer.zero_grad()\n",
    "        total_loss.backward()\n",
    "        optimizer.step()\n",
    "        preds = (outputs > 0.5).float()\n",
    "        all_preds.extend(preds.squeeze(1).cpu().numpy())\n",
    "        all_masks.extend(masks.squeeze(1).cpu().numpy())\n",
    "\n",
    "    recall = recall_score_(np.array(all_preds), np.array(all_masks))\n",
    "    precision = precision_score_(np.array(all_preds), np.array(all_masks))\n",
    "    iou = iou_(np.array(all_preds), np.array(all_masks))\n",
    "    \n",
    "    print(f\"Epoch [{epoch+1}/{num_epochs}], Loss: {epoch_loss/len(train_loader)}\")\n",
    "    print(f\"Precision: {recall:.4f}, Recall: {precision:.4f}\")\n",
    "    if recall != 0. and precision != 0.:\n",
    "        print(f'F1 - score : {2/((1/recall) + (1/precision))}')\n",
    "    print(f\"IOU : {iou}\")\n"
   ]
  },
  {
   "cell_type": "code",
   "execution_count": 22,
   "metadata": {},
   "outputs": [
    {
     "name": "stderr",
     "output_type": "stream",
     "text": [
      "100%|██████████| 16/16 [02:25<00:00,  9.09s/it]\n"
     ]
    },
    {
     "name": "stdout",
     "output_type": "stream",
     "text": [
      "Epoch [10/10], Loss: 0.0\n",
      "Precision: 0.6740, Recall: 0.7620\n",
      "F1 - score : 0.7153036458484732\n",
      "IOU : 0.5569999814033508\n"
     ]
    }
   ],
   "source": [
    "model.eval()\n",
    "epoch_loss = 0\n",
    "all_preds = []\n",
    "all_masks = []\n",
    "\n",
    "for prefires, postfires, masks in tqdm(test_loader):\n",
    "    prefires, postfires, masks = prefires.to(device), postfires.to(device), masks.to(device)\n",
    "    \n",
    "    # Forward pass\n",
    "    outputs = model(prefires, postfires)\n",
    "    # loss = criterion(outputs, masks)  # Cast masks to long if needed\n",
    "    # dice = dice_loss(masks, outputs)\n",
    "    # total_loss = loss + dice\n",
    "    # epoch_loss += total_loss.item()\n",
    "\n",
    "\n",
    "    # # Backpropagation and optimization\n",
    "    # optimizer.zero_grad()\n",
    "    # total_loss.backward()\n",
    "    # optimizer.step()\n",
    "    preds = (outputs > 0.5).float()\n",
    "    all_preds.extend(preds.squeeze(1).cpu().numpy())\n",
    "    all_masks.extend(masks.squeeze(1).cpu().numpy())\n",
    "\n",
    "recall = recall_score_(np.array(all_preds), np.array(all_masks))\n",
    "precision = precision_score_(np.array(all_preds), np.array(all_masks))\n",
    "iou = iou_(np.array(all_preds), np.array(all_masks))\n",
    "print(f\"Epoch [{epoch+1}/{num_epochs}], Loss: {epoch_loss/len(train_loader)}\")\n",
    "print(f\"Precision: {recall:.4f}, Recall: {precision:.4f}\")\n",
    "if recall != 0. and precision != 0.:\n",
    "    print(f'F1 - score : {2/((1/recall) + (1/precision))}')\n",
    "print(f\"IOU : {iou}\")"
   ]
  },
  {
   "cell_type": "code",
   "execution_count": 23,
   "metadata": {},
   "outputs": [
    {
     "name": "stdout",
     "output_type": "stream",
     "text": [
      "              precision    recall  f1-score   support\n",
      "\n",
      "         0.0       0.95      0.96      0.95  28691371\n",
      "         1.0       0.76      0.67      0.72   4863061\n",
      "\n",
      "    accuracy                           0.92  33554432\n",
      "   macro avg       0.85      0.82      0.84  33554432\n",
      "weighted avg       0.92      0.92      0.92  33554432\n",
      "\n"
     ]
    }
   ],
   "source": [
    "from sklearn.metrics import classification_report\n",
    "print(classification_report(np.array(all_preds).flatten(), np.array(all_masks).flatten()))"
   ]
  },
  {
   "cell_type": "code",
   "execution_count": null,
   "metadata": {},
   "outputs": [],
   "source": []
  }
 ],
 "metadata": {
  "kernelspec": {
   "display_name": "geo",
   "language": "python",
   "name": "python3"
  },
  "language_info": {
   "codemirror_mode": {
    "name": "ipython",
    "version": 3
   },
   "file_extension": ".py",
   "mimetype": "text/x-python",
   "name": "python",
   "nbconvert_exporter": "python",
   "pygments_lexer": "ipython3",
   "version": "3.9.20"
  }
 },
 "nbformat": 4,
 "nbformat_minor": 2
}
