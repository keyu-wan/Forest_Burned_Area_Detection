{
 "cells": [
  {
   "cell_type": "code",
   "execution_count": 1,
   "metadata": {},
   "outputs": [
    {
     "name": "stderr",
     "output_type": "stream",
     "text": [
      "/home/tkhuran3/miniconda3/envs/geo/lib/python3.9/site-packages/tqdm/auto.py:21: TqdmWarning: IProgress not found. Please update jupyter and ipywidgets. See https://ipywidgets.readthedocs.io/en/stable/user_install.html\n",
      "  from .autonotebook import tqdm as notebook_tqdm\n"
     ]
    }
   ],
   "source": [
    "import torch\n",
    "import torch.nn as nn\n",
    "import torch.nn.functional as F\n",
    "import numpy as np\n",
    "from tqdm import tqdm\n",
    "from datasets import load_dataset\n",
    "from sklearn.model_selection import train_test_split"
   ]
  },
  {
   "cell_type": "code",
   "execution_count": 2,
   "metadata": {},
   "outputs": [
    {
     "name": "stderr",
     "output_type": "stream",
     "text": [
      "/home/tkhuran3/miniconda3/envs/geo/lib/python3.9/site-packages/datasets/load.py:1486: FutureWarning: The repository for DarthReca/california_burned_areas contains custom code which must be executed to correctly load the dataset. You can inspect the repository content at https://hf.co/datasets/DarthReca/california_burned_areas\n",
      "You can avoid this message in future by passing the argument `trust_remote_code=True`.\n",
      "Passing `trust_remote_code=True` will be mandatory to load this dataset from the next major release of `datasets`.\n",
      "  warnings.warn(\n"
     ]
    }
   ],
   "source": [
    "\n",
    "\n",
    "# There are two available configurations, \"post-fire\" and \"pre-post-fire.\"\n",
    "dataset = load_dataset(\"DarthReca/california_burned_areas\", name=\"pre-post-fire\")\n"
   ]
  },
  {
   "cell_type": "code",
   "execution_count": 3,
   "metadata": {},
   "outputs": [
    {
     "data": {
      "text/plain": [
       "DatasetDict({\n",
       "    0: Dataset({\n",
       "        features: ['post_fire', 'pre_fire', 'mask'],\n",
       "        num_rows: 78\n",
       "    })\n",
       "    1: Dataset({\n",
       "        features: ['post_fire', 'pre_fire', 'mask'],\n",
       "        num_rows: 55\n",
       "    })\n",
       "    2: Dataset({\n",
       "        features: ['post_fire', 'pre_fire', 'mask'],\n",
       "        num_rows: 69\n",
       "    })\n",
       "    3: Dataset({\n",
       "        features: ['post_fire', 'pre_fire', 'mask'],\n",
       "        num_rows: 85\n",
       "    })\n",
       "    4: Dataset({\n",
       "        features: ['post_fire', 'pre_fire', 'mask'],\n",
       "        num_rows: 69\n",
       "    })\n",
       "    chabud: Dataset({\n",
       "        features: ['post_fire', 'pre_fire', 'mask'],\n",
       "        num_rows: 68\n",
       "    })\n",
       "})"
      ]
     },
     "execution_count": 3,
     "metadata": {},
     "output_type": "execute_result"
    }
   ],
   "source": [
    "dataset"
   ]
  },
  {
   "cell_type": "code",
   "execution_count": 4,
   "metadata": {},
   "outputs": [
    {
     "name": "stdout",
     "output_type": "stream",
     "text": [
      "done\n",
      "done\n",
      "done\n",
      "done\n",
      "done\n"
     ]
    }
   ],
   "source": [
    "X_0 = zip(dataset['0']['post_fire'], dataset['0']['pre_fire'])\n",
    "print('done')\n",
    "X_1 = zip(dataset['1']['post_fire'], dataset['1']['pre_fire'])\n",
    "print('done')\n",
    "X_2 =zip(dataset['2']['post_fire'], dataset['2']['pre_fire'])\n",
    "print('done')\n",
    "X_3 = zip(dataset['3']['post_fire'], dataset['3']['pre_fire'])\n",
    "print('done')\n",
    "X_4 = zip(dataset['4']['post_fire'], dataset['4']['pre_fire'])\n",
    "print('done')\n",
    "X_c = zip(dataset['chabud']['post_fire'], dataset['chabud']['pre_fire'])"
   ]
  },
  {
   "cell_type": "code",
   "execution_count": 5,
   "metadata": {},
   "outputs": [
    {
     "name": "stdout",
     "output_type": "stream",
     "text": [
      "done\n",
      "done\n",
      "done\n",
      "done\n",
      "done\n"
     ]
    }
   ],
   "source": [
    "m_0 = dataset['0']['mask']\n",
    "print('done')\n",
    "m_1 = dataset['1']['mask']\n",
    "print('done')\n",
    "m_2 = dataset['2']['mask']\n",
    "print('done')\n",
    "m_3 = dataset['3']['mask']\n",
    "print('done')\n",
    "m_4 = dataset['4']['mask']\n",
    "print('done')\n",
    "m_c = dataset['chabud']['mask']"
   ]
  },
  {
   "cell_type": "code",
   "execution_count": 6,
   "metadata": {},
   "outputs": [],
   "source": [
    "X = []\n",
    "for x in [X_0, X_1, X_2, X_3, X_4, X_c]: \n",
    "    X.extend(list(x))  # Combine pre_fire and post_fire as features\n",
    "\n",
    "\n",
    "train_X, test_X, train_Y, test_Y = train_test_split(X, m_0+m_1+m_2+m_3+m_4+m_c, test_size=0.3, random_state=42)\n"
   ]
  },
  {
   "cell_type": "code",
   "execution_count": 7,
   "metadata": {},
   "outputs": [
    {
     "data": {
      "text/plain": [
       "(296, 296)"
      ]
     },
     "execution_count": 7,
     "metadata": {},
     "output_type": "execute_result"
    }
   ],
   "source": [
    "len(train_X), len(train_Y)"
   ]
  },
  {
   "cell_type": "code",
   "execution_count": 8,
   "metadata": {},
   "outputs": [],
   "source": [
    "class UNet(nn.Module):\n",
    "    def __init__(self):\n",
    "        super(UNet, self).__init__()\n",
    "        # UNET repicated of https://arxiv.org/pdf/2211.12979 page 5.\n",
    "        self.w1 = nn.Parameter(torch.tensor(0.5))\n",
    "        self.w2 = nn.Parameter(torch.tensor(0.5))\n",
    "        # self.b = nn.Parameter(torch.tensor(0.5))\n",
    "\n",
    "        ## START OF ENCODING BLOCK ##\n",
    "        self.orange = nn.Conv2d(in_channels=12, out_channels=64, kernel_size=7, padding='same') #-> change this to how many channels you will use\n",
    "        self.red1 = nn.MaxPool2d(2)\n",
    "        self.blue1 = nn.Sequential(nn.Conv2d(in_channels=64, out_channels=64, kernel_size=3, padding='same'), \n",
    "                                   nn.BatchNorm2d(64),\n",
    "                                   nn.ReLU(inplace=True),\n",
    "                                   nn.Conv2d(in_channels=64, out_channels=64, kernel_size=3, padding='same')\n",
    "        )\n",
    "        self.red2 = nn.Conv2d(in_channels=64, out_channels=128, kernel_size=3, stride=2, padding=1)\n",
    "        self.blue2 = nn.Sequential(nn.Conv2d(in_channels=128, out_channels=128, kernel_size=3, padding='same'), \n",
    "                                   nn.BatchNorm2d(128),\n",
    "                                   nn.ReLU(inplace=True),\n",
    "                                   nn.Conv2d(in_channels=128, out_channels=128, kernel_size=3, padding='same')\n",
    "        )\n",
    "        self.red3 = nn.Conv2d(in_channels=128, out_channels=256, kernel_size=3, stride=2, padding=1)\n",
    "        self.blue3 = nn.Sequential(nn.Conv2d(in_channels=256, out_channels=256, kernel_size=3, padding='same'), \n",
    "                                   nn.BatchNorm2d(256),\n",
    "                                   nn.ReLU(inplace=True),\n",
    "                                   nn.Conv2d(in_channels=256, out_channels=256, kernel_size=3, padding='same')\n",
    "        )\n",
    "        self.red4 = nn.Conv2d(in_channels=256, out_channels=512, kernel_size=3, stride=2, padding=1)\n",
    "        self.blue4 = nn.Sequential(nn.Conv2d(in_channels=512, out_channels=512, kernel_size=3, padding='same'), \n",
    "                                   nn.BatchNorm2d(512),\n",
    "                                   nn.ReLU(inplace=True),\n",
    "                                   nn.Conv2d(in_channels=512, out_channels=512, kernel_size=3, padding='same')\n",
    "        )\n",
    "        ## END OF ENCODER BLOCK\n",
    "\n",
    "        ## START of ENCODER FOR Pre FIRE\n",
    "        # self.orangeps = nn.Conv2d(in_channels=12, out_channels=64, kernel_size=7, padding='same') #-> change this to how many channels you will use\n",
    "        # self.red1ps = nn.MaxPool2d(2)\n",
    "        # self.blue1ps = nn.Sequential(nn.Conv2d(in_channels=64, out_channels=64, kernel_size=3, padding='same'), \n",
    "        #                            nn.BatchNorm2d(64),\n",
    "        #                            nn.ReLU(inplace=True),\n",
    "        #                            nn.Conv2d(in_channels=64, out_channels=64, kernel_size=3, padding='same')\n",
    "        # )\n",
    "        # self.red2ps = nn.Conv2d(in_channels=64, out_channels=128, kernel_size=3, stride=2, padding=1)\n",
    "        # self.blue2ps = nn.Sequential(nn.Conv2d(in_channels=128, out_channels=128, kernel_size=3, padding='same'), \n",
    "        #                            nn.BatchNorm2d(128),\n",
    "        #                            nn.ReLU(inplace=True),\n",
    "        #                            nn.Conv2d(in_channels=128, out_channels=128, kernel_size=3, padding='same')\n",
    "        # )\n",
    "        # self.red3ps = nn.Conv2d(in_channels=128, out_channels=256, kernel_size=3, stride=2, padding=1)\n",
    "        # self.blue3ps = nn.Sequential(nn.Conv2d(in_channels=256, out_channels=256, kernel_size=3, padding='same'), \n",
    "        #                            nn.BatchNorm2d(256),\n",
    "        #                            nn.ReLU(inplace=True),\n",
    "        #                            nn.Conv2d(in_channels=256, out_channels=256, kernel_size=3, padding='same')\n",
    "        # )\n",
    "        # self.red4ps = nn.Conv2d(in_channels=256, out_channels=512, kernel_size=3, stride=2, padding=1)\n",
    "        # self.blue4ps = nn.Sequential(nn.Conv2d(in_channels=512, out_channels=512, kernel_size=3, padding='same'), \n",
    "        #                            nn.BatchNorm2d(512),\n",
    "        #                            nn.ReLU(inplace=True),\n",
    "        #                            nn.Conv2d(in_channels=512, out_channels=512, kernel_size=3, padding='same')\n",
    "        # )\n",
    "\n",
    "        ## END pf Pre Fire ENCODER\n",
    "\n",
    "        ## START OF DECODER BLOCK ##\n",
    "\n",
    "        self.green1 = nn.ConvTranspose2d(in_channels=512, out_channels=512, kernel_size=2, stride=2)\n",
    "        self.upblue1 = nn.Sequential(nn.Conv2d(in_channels=768, out_channels=256, kernel_size=3, padding='same'), \n",
    "                                   nn.BatchNorm2d(256),\n",
    "                                   nn.ReLU(inplace=True),\n",
    "                                   nn.Conv2d(in_channels=256, out_channels=256, kernel_size=3, padding='same'))\n",
    "        self.green2 = nn.ConvTranspose2d(in_channels=256, out_channels=256, kernel_size=2, stride=2)\n",
    "        self.upblue2 = nn.Sequential(nn.Conv2d(in_channels=384, out_channels=128, kernel_size=3, padding='same'), \n",
    "                                   nn.BatchNorm2d(128),\n",
    "                                   nn.ReLU(inplace=True),\n",
    "                                   nn.Conv2d(in_channels=128, out_channels=128, kernel_size=3, padding='same'))\n",
    "        self.green3 = nn.ConvTranspose2d(in_channels=128, out_channels=128, kernel_size=2, stride=2)\n",
    "        self.upblue3 = nn.Sequential(nn.Conv2d(in_channels=192, out_channels=64, kernel_size=3, padding='same'), \n",
    "                                   nn.BatchNorm2d(64),\n",
    "                                   nn.ReLU(inplace=True),\n",
    "                                   nn.Conv2d(in_channels=64, out_channels=64, kernel_size=3, padding='same'))\n",
    "        self.green4 = nn.ConvTranspose2d(in_channels=64, out_channels=64, kernel_size=2, stride=2)\n",
    "        self.upblue4 = nn.Sequential(nn.Conv2d(in_channels=128, out_channels=32, kernel_size=3, padding='same'), \n",
    "                                   nn.BatchNorm2d(32),\n",
    "                                   nn.ReLU(inplace=True),\n",
    "                                   nn.Conv2d(in_channels=32, out_channels=32, kernel_size=3, padding='same'))\n",
    "        self.upblue5 = nn.Sequential(nn.Conv2d(in_channels=32, out_channels=32, kernel_size=3, padding='same'), \n",
    "                                   nn.BatchNorm2d(32),\n",
    "                                   nn.ReLU(inplace=True),\n",
    "                                   nn.Conv2d(in_channels=32, out_channels=32, kernel_size=3, padding='same'))\n",
    "        self.upblue6 = nn.Sequential(nn.Conv2d(in_channels=32, out_channels=32, kernel_size=3, padding='same'), \n",
    "                                   nn.BatchNorm2d(32),\n",
    "                                   nn.ReLU(inplace=True),\n",
    "                                   nn.Conv2d(in_channels=32, out_channels=16, kernel_size=3, padding='same'))\n",
    "        \n",
    "        ## END OF DECODER BLOCK\n",
    "        # self.meta_1 = nn.Conv2d(in_channels=3, out_channels=64, kernel_size=7,stride=2, padding=1)\n",
    "        # self.meta_2 = nn.Conv2d(in_channels=64, out_channels=128, kernel_size=3, stride=2, padding=1)\n",
    "        # self.meta_3 = nn.Conv2d(in_channels=128, out_channels=256, kernel_size=3, stride=2, padding=1)\n",
    "        # self.meta_4 = nn.Conv2d(in_channels=256, out_channels=512, kernel_size=3, stride=2, padding=1)\n",
    "\n",
    "        ## Final conv layer\n",
    "        self.final_conv = nn.Conv2d(16, 1, kernel_size=1)\n",
    "\n",
    "\n",
    "        ###\n",
    "    def forward(self, pre_fire, post_fire):\n",
    "        #shape of x -> 12, 512, 512\n",
    "        weights = torch.softmax(torch.stack([self.w1, self.w2]), dim=0)\n",
    "        fused_feature = torch.cat((weights[0] * pre_fire, weights[1] * post_fire), dim=1)\n",
    "        orange_op = self.orange(fused_feature) \n",
    "        #print('orange_op : ',orange_op.shape) -> torch.Size([1, 64, 512, 512])\n",
    "        red1_op = self.red1(orange_op)\n",
    "        # print('red1_op : ',red1_op.shape) -> torch.Size([1, 64, 256, 256])\n",
    "        blue1_op = self.blue1(self.blue1(red1_op)) + red1_op\n",
    "        # print('blue1_op : ',blue1_op.shape) -> torch.Size([1, 64, 256, 256])\n",
    "        red2_op = self.red2(blue1_op)\n",
    "        # print('red2_op : ',red2_op.shape) -> torch.Size([1, 128, 128, 128])\n",
    "        blue2_op = self.blue2(self.blue2(self.blue2(red2_op))) + red2_op\n",
    "        # print('blue2_op : ',blue2_op.shape) -> torch.Size([1, 128, 128, 128])\n",
    "        red3_op = self.red3(blue2_op)\n",
    "        # print('red3_op : ',red3_op.shape) -> torch.Size([1, 256, 64, 64])\n",
    "        blue3_op = self.blue3(self.blue3(self.blue3(self.blue3(self.blue3(red3_op))))) + red3_op\n",
    "        # print('blue3_op : ',blue3_op.shape) -> torch.Size([1, 256, 64, 64])\n",
    "        red4_op = self.red4(blue3_op)\n",
    "        # print('red4_op : ',red4_op.shape) -> torch.Size([1, 512, 32, 32])\n",
    "        blue4_op = self.blue4(self.blue4(red4_op)) + red4_op\n",
    "        # print('blue4_op : ',blue4_op.shape) -> torch.Size([1, 512, 32, 32])\n",
    "\n",
    "        # orange_op1 = self.orangeps(post_fire) \n",
    "        # #print('orange_op : ',orange_op.shape) -> torch.Size([1, 64, 512, 512])\n",
    "        # red1_op1 = self.red1ps(orange_op1)\n",
    "        # # print('red1_op : ',red1_op.shape) -> torch.Size([1, 64, 256, 256])\n",
    "        # blue1_op1 = self.blue1ps(self.blue1ps(red1_op1)) + red1_op1\n",
    "        # # print('blue1_op : ',blue1_op.shape) -> torch.Size([1, 64, 256, 256])\n",
    "        # red2_op1 = self.red2ps(blue1_op1)\n",
    "        # # print('red2_op : ',red2_op.shape) -> torch.Size([1, 128, 128, 128])\n",
    "        # blue2_op1 = self.blue2ps(self.blue2ps(self.blue2ps(red2_op1))) + red2_op1\n",
    "        # # print('blue2_op : ',blue2_op.shape) -> torch.Size([1, 128, 128, 128])\n",
    "        # red3_op1 = self.red3ps(blue2_op1)\n",
    "        # # print('red3_op : ',red3_op.shape) -> torch.Size([1, 256, 64, 64])\n",
    "        # blue3_op1 = self.blue3ps(self.blue3ps(self.blue3ps(self.blue3ps(self.blue3ps(red3_op1))))) + red3_op1\n",
    "        # # print('blue3_op : ',blue3_op.shape) -> torch.Size([1, 256, 64, 64])\n",
    "        # red4_op1 = self.red4ps(blue3_op1)\n",
    "        # # print('red4_op : ',red4_op.shape) -> torch.Size([1, 512, 32, 32])\n",
    "        # blue4_op1 = self.blue4ps(self.blue4ps(red4_op1)) + red4_op1\n",
    "        # # print('blue4_op : ',blue4_op.shape) -> torch.Size([1, 512, 32, 32])\n",
    "        # weights = torch.softmax(torch.stack([self.w1, self.w2]), dim=0)\n",
    "        # fused_feature = weights[0] * blue4_op1 + weights[1] * blue4_op\n",
    "\n",
    "        up1_op = self.upblue1(torch.cat((self.green1(blue4_op), blue3_op), dim=1))\n",
    "        # print('up1_op : ',up1_op.shape) -> torch.Size([1, 256, 64, 64])\n",
    "        up2_op = self.upblue2(torch.cat((self.green2(up1_op), blue2_op), dim=1))\n",
    "        # print('up2_op : ',up2_op.shape) -> torch.Size([1, 128, 128, 128])\n",
    "        up3_op = self.upblue3(torch.cat((self.green3(up2_op), blue1_op), dim=1))\n",
    "        # print('up3_op : ',up3_op.shape) -> torch.Size([1, 64, 256, 256])\n",
    "        up4_op = self.upblue6(self.upblue5(self.upblue4(torch.cat((self.green4(up3_op), orange_op), dim=1))))\n",
    "        # print('up4_op : ',up4_op.shape) -> torch.Size([1, 16, 512, 512])\n",
    "        return torch.sigmoid(self.final_conv(up4_op))\n",
    "\n",
    "\n",
    "model = UNet()"
   ]
  },
  {
   "cell_type": "code",
   "execution_count": 9,
   "metadata": {},
   "outputs": [],
   "source": [
    "from torch.utils.data import DataLoader, Dataset\n",
    "\n",
    "\n",
    "import torch\n",
    "\n",
    "class ImageData(Dataset):\n",
    "    def __init__(self, images, masks):\n",
    "        self.images = images\n",
    "        self.masks = masks\n",
    "        self.means = [\n",
    "            0.033349706741586264, 0.05701185520536176, 0.05889748132001316,\n",
    "            0.2323245113436119, 0.1972854853760658, 0.11944914225186566\n",
    "        ]\n",
    "        self.stds = [\n",
    "            0.02269135568823774, 0.026807560223070237, 0.04004109844362779,\n",
    "            0.07791732423672691, 0.08708738838140137, 0.07241979477437814\n",
    "        ]\n",
    "    \n",
    "    def __len__(self):\n",
    "        return len(self.images)\n",
    "\n",
    "    def __getitem__(self, idx):\n",
    "        image = self.images[idx]\n",
    "        pre_fire_image = image[1]\n",
    "        post_fire_image = image[0]\n",
    "        mask = self.masks[idx]\n",
    "\n",
    "        # Convert to tensors and permute the dimensions to (C, H, W)\n",
    "        tensor_image_pre = torch.tensor(pre_fire_image).float().permute(2, 0, 1)[:6]\n",
    "        tensor_image_post = torch.tensor(post_fire_image).float().permute(2, 0, 1)[:6]\n",
    "        tensor_mask = torch.tensor(mask).float().permute(2, 0, 1)\n",
    "\n",
    "        # Normalize each channel\n",
    "        for i in range(6):\n",
    "            tensor_image_pre[i] = (tensor_image_pre[i] - self.means[i]) / self.stds[i]\n",
    "            tensor_image_post[i] = (tensor_image_post[i] - self.means[i]) / self.stds[i]\n",
    "\n",
    "        return tensor_image_pre, tensor_image_post, tensor_mask\n",
    "\n",
    "    \n",
    "train_dataset = ImageData(images=train_X, masks=train_Y)\n",
    "train_loader = DataLoader(train_dataset, batch_size=8, shuffle=True)\n",
    "\n",
    "# val_dataset = ImageData(images=val_X, masks=val_Y)\n",
    "# val_loader = DataLoader(val_dataset, batch_size=8, shuffle=True)\n",
    "\n",
    "test_dataset = ImageData(images=test_X, masks=test_Y)\n",
    "test_loader = DataLoader(test_dataset, batch_size=8, shuffle=True)\n",
    "        "
   ]
  },
  {
   "cell_type": "code",
   "execution_count": 10,
   "metadata": {},
   "outputs": [],
   "source": [
    "def precision_score_(groundtruth_mask, pred_mask):\n",
    "    intersect = np.sum(pred_mask*groundtruth_mask)\n",
    "    total_pixel_pred = np.sum(pred_mask)\n",
    "    precision = np.mean(intersect/total_pixel_pred)\n",
    "    return round(precision, 3)\n",
    "\n",
    "def recall_score_(groundtruth_mask, pred_mask):\n",
    "    intersect = np.sum(pred_mask*groundtruth_mask)\n",
    "    total_pixel_truth = np.sum(groundtruth_mask)\n",
    "    recall = np.mean(intersect/total_pixel_truth)\n",
    "    return round(recall, 3)\n"
   ]
  },
  {
   "cell_type": "code",
   "execution_count": 11,
   "metadata": {},
   "outputs": [
    {
     "data": {
      "text/plain": [
       "1.0"
      ]
     },
     "execution_count": 11,
     "metadata": {},
     "output_type": "execute_result"
    }
   ],
   "source": [
    "recall_score_(np.array(m_0[0:5]), np.array(m_0[0:5]))"
   ]
  },
  {
   "cell_type": "code",
   "execution_count": 12,
   "metadata": {},
   "outputs": [],
   "source": [
    "def dice_loss(groundtruth_mask, pred_mask):\n",
    "    intersect = torch.sum(pred_mask * groundtruth_mask)\n",
    "    total_sum = torch.sum(pred_mask) + torch.sum(groundtruth_mask)\n",
    "    dice = 1 - (2 * intersect / (total_sum + 1e-6))  # Avoid division by zero\n",
    "    return dice"
   ]
  },
  {
   "cell_type": "code",
   "execution_count": 13,
   "metadata": {},
   "outputs": [
    {
     "name": "stderr",
     "output_type": "stream",
     "text": [
      "100%|██████████| 37/37 [05:45<00:00,  9.34s/it]\n"
     ]
    },
    {
     "name": "stdout",
     "output_type": "stream",
     "text": [
      "Epoch [1/10], Loss: 1.3783846964707245\n",
      "Precision: 0.2390, Recall: 0.7780\n",
      "F1 - score : 0.3656676409841659\n"
     ]
    },
    {
     "name": "stderr",
     "output_type": "stream",
     "text": [
      "100%|██████████| 37/37 [05:54<00:00,  9.58s/it]\n"
     ]
    },
    {
     "name": "stdout",
     "output_type": "stream",
     "text": [
      "Epoch [2/10], Loss: 1.1601060677219082\n",
      "Precision: 0.3970, Recall: 0.6510\n",
      "F1 - score : 0.49321948362564416\n"
     ]
    },
    {
     "name": "stderr",
     "output_type": "stream",
     "text": [
      "100%|██████████| 37/37 [05:55<00:00,  9.62s/it]\n"
     ]
    },
    {
     "name": "stdout",
     "output_type": "stream",
     "text": [
      "Epoch [3/10], Loss: 1.0325032053767025\n",
      "Precision: 0.4140, Recall: 0.6230\n",
      "F1 - score : 0.4974387771481549\n"
     ]
    },
    {
     "name": "stderr",
     "output_type": "stream",
     "text": [
      "100%|██████████| 37/37 [06:11<00:00, 10.05s/it]\n"
     ]
    },
    {
     "name": "stdout",
     "output_type": "stream",
     "text": [
      "Epoch [4/10], Loss: 0.933425606908025\n",
      "Precision: 0.4720, Recall: 0.6260\n",
      "F1 - score : 0.5382003614004442\n"
     ]
    },
    {
     "name": "stderr",
     "output_type": "stream",
     "text": [
      "100%|██████████| 37/37 [06:02<00:00,  9.80s/it]\n"
     ]
    },
    {
     "name": "stdout",
     "output_type": "stream",
     "text": [
      "Epoch [5/10], Loss: 0.8648145021619024\n",
      "Precision: 0.5480, Recall: 0.5600\n",
      "F1 - score : 0.5539350080108536\n"
     ]
    },
    {
     "name": "stderr",
     "output_type": "stream",
     "text": [
      "100%|██████████| 37/37 [06:03<00:00,  9.83s/it]\n"
     ]
    },
    {
     "name": "stdout",
     "output_type": "stream",
     "text": [
      "Epoch [6/10], Loss: 0.8211970957549842\n",
      "Precision: 0.5270, Recall: 0.6060\n",
      "F1 - score : 0.5637458160020952\n"
     ]
    },
    {
     "name": "stderr",
     "output_type": "stream",
     "text": [
      "100%|██████████| 37/37 [06:08<00:00,  9.97s/it]\n"
     ]
    },
    {
     "name": "stdout",
     "output_type": "stream",
     "text": [
      "Epoch [7/10], Loss: 0.8202610321947046\n",
      "Precision: 0.5970, Recall: 0.5660\n",
      "F1 - score : 0.581086837681739\n"
     ]
    },
    {
     "name": "stderr",
     "output_type": "stream",
     "text": [
      "100%|██████████| 37/37 [06:00<00:00,  9.73s/it]\n"
     ]
    },
    {
     "name": "stdout",
     "output_type": "stream",
     "text": [
      "Epoch [8/10], Loss: 0.7494347538496997\n",
      "Precision: 0.6380, Recall: 0.5930\n",
      "F1 - score : 0.6146775004626259\n"
     ]
    },
    {
     "name": "stderr",
     "output_type": "stream",
     "text": [
      "100%|██████████| 37/37 [06:20<00:00, 10.27s/it]\n"
     ]
    },
    {
     "name": "stdout",
     "output_type": "stream",
     "text": [
      "Epoch [9/10], Loss: 0.7779548748119457\n",
      "Precision: 0.5890, Recall: 0.6020\n",
      "F1 - score : 0.5954290434622462\n"
     ]
    },
    {
     "name": "stderr",
     "output_type": "stream",
     "text": [
      "100%|██████████| 37/37 [06:15<00:00, 10.14s/it]\n"
     ]
    },
    {
     "name": "stdout",
     "output_type": "stream",
     "text": [
      "Epoch [10/10], Loss: 0.7882125804553161\n",
      "Precision: 0.5720, Recall: 0.5660\n",
      "F1 - score : 0.5689841882777665\n"
     ]
    }
   ],
   "source": [
    "import torch.optim as optim\n",
    "criterion = nn.BCELoss()  # Use BCEWithLogitsLoss for binary segmentation\n",
    "optimizer = optim.Adam(model.parameters(), lr=1e-4)\n",
    "\n",
    "# Training Loop\n",
    "num_epochs = 10\n",
    "device = torch.device(\"cuda:3\" if torch.cuda.is_available() else \"cpu\")\n",
    "model.to(device)\n",
    "\n",
    "for epoch in range(num_epochs):\n",
    "    model.train()\n",
    "    epoch_loss = 0\n",
    "    all_preds = []\n",
    "    all_masks = []\n",
    "\n",
    "    for prefires, postfires, masks in tqdm(train_loader):\n",
    "        prefires, postfires, masks = prefires.to(device), postfires.to(device), masks.to(device)\n",
    "        \n",
    "        # Forward pass\n",
    "        outputs = model(prefires, postfires)\n",
    "        loss = criterion(outputs, masks)  # Cast masks to long if needed\n",
    "        dice = dice_loss(masks, outputs)\n",
    "        total_loss = loss + dice\n",
    "        epoch_loss += total_loss.item()\n",
    "\n",
    "\n",
    "        # Backpropagation and optimization\n",
    "        optimizer.zero_grad()\n",
    "        total_loss.backward()\n",
    "        optimizer.step()\n",
    "        preds = (outputs > 0.5).float()\n",
    "        all_preds.extend(preds.squeeze(1).cpu().numpy())\n",
    "        all_masks.extend(masks.squeeze(1).cpu().numpy())\n",
    "\n",
    "    recall = recall_score_(np.array(all_preds), np.array(all_masks))\n",
    "    precision = precision_score_(np.array(all_preds), np.array(all_masks))\n",
    "    \n",
    "    print(f\"Epoch [{epoch+1}/{num_epochs}], Loss: {epoch_loss/len(train_loader)}\")\n",
    "    print(f\"Precision: {recall:.4f}, Recall: {precision:.4f}\")\n",
    "    if recall != 0. and precision != 0.:\n",
    "        print(f'F1 - score : {2/((1/recall) + (1/precision))}')\n"
   ]
  },
  {
   "cell_type": "code",
   "execution_count": 14,
   "metadata": {},
   "outputs": [
    {
     "name": "stderr",
     "output_type": "stream",
     "text": [
      "100%|██████████| 16/16 [03:02<00:00, 11.41s/it]\n"
     ]
    },
    {
     "name": "stdout",
     "output_type": "stream",
     "text": [
      "Epoch [10/10], Loss: 0.3269296038795162\n",
      "Precision: 0.5650, Recall: 0.6670\n",
      "F1 - score : 0.6117775941997713\n"
     ]
    }
   ],
   "source": [
    "model.eval()\n",
    "epoch_loss = 0\n",
    "all_preds = []\n",
    "all_masks = []\n",
    "\n",
    "for prefires, postfires, masks in tqdm(test_loader):\n",
    "    prefires, postfires, masks = prefires.to(device), postfires.to(device), masks.to(device)\n",
    "    \n",
    "    # Forward pass\n",
    "    outputs = model(prefires, postfires)\n",
    "    loss = criterion(outputs, masks)  # Cast masks to long if needed\n",
    "    dice = dice_loss(masks, outputs)\n",
    "    total_loss = loss + dice\n",
    "    epoch_loss += total_loss.item()\n",
    "\n",
    "\n",
    "    # Backpropagation and optimization\n",
    "    optimizer.zero_grad()\n",
    "    total_loss.backward()\n",
    "    optimizer.step()\n",
    "    preds = (outputs > 0.5).float()\n",
    "    all_preds.extend(preds.squeeze(1).cpu().numpy())\n",
    "    all_masks.extend(masks.squeeze(1).cpu().numpy())\n",
    "\n",
    "recall = recall_score_(np.array(all_preds), np.array(all_masks))\n",
    "precision = precision_score_(np.array(all_preds), np.array(all_masks))\n",
    "\n",
    "print(f\"Epoch [{epoch+1}/{num_epochs}], Loss: {epoch_loss/len(train_loader)}\")\n",
    "print(f\"Precision: {recall:.4f}, Recall: {precision:.4f}\")\n",
    "if recall != 0. and precision != 0.:\n",
    "    print(f'F1 - score : {2/((1/recall) + (1/precision))}')"
   ]
  },
  {
   "cell_type": "code",
   "execution_count": 15,
   "metadata": {},
   "outputs": [
    {
     "data": {
      "text/plain": [
       "(128, 512, 512)"
      ]
     },
     "execution_count": 15,
     "metadata": {},
     "output_type": "execute_result"
    }
   ],
   "source": [
    "np.array(all_preds).shape"
   ]
  },
  {
   "cell_type": "code",
   "execution_count": 16,
   "metadata": {},
   "outputs": [
    {
     "name": "stdout",
     "output_type": "stream",
     "text": [
      "              precision    recall  f1-score   support\n",
      "\n",
      "         0.0       0.92      0.95      0.94  28468997\n",
      "         1.0       0.67      0.56      0.61   5085435\n",
      "\n",
      "    accuracy                           0.89  33554432\n",
      "   macro avg       0.80      0.76      0.77  33554432\n",
      "weighted avg       0.89      0.89      0.89  33554432\n",
      "\n"
     ]
    }
   ],
   "source": [
    "from sklearn.metrics import classification_report\n",
    "print(classification_report(np.array(all_preds).flatten(), np.array(all_masks).flatten()))"
   ]
  },
  {
   "cell_type": "code",
   "execution_count": null,
   "metadata": {},
   "outputs": [],
   "source": []
  },
  {
   "cell_type": "code",
   "execution_count": null,
   "metadata": {},
   "outputs": [],
   "source": []
  }
 ],
 "metadata": {
  "kernelspec": {
   "display_name": "geo",
   "language": "python",
   "name": "python3"
  },
  "language_info": {
   "codemirror_mode": {
    "name": "ipython",
    "version": 3
   },
   "file_extension": ".py",
   "mimetype": "text/x-python",
   "name": "python",
   "nbconvert_exporter": "python",
   "pygments_lexer": "ipython3",
   "version": "3.9.20"
  }
 },
 "nbformat": 4,
 "nbformat_minor": 2
}
